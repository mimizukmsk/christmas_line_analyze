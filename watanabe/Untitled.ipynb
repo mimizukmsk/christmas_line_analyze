{
 "cells": [
  {
   "cell_type": "code",
   "execution_count": null,
   "metadata": {},
   "outputs": [],
   "source": [
    "#!/usr/bin/python\n",
    "# coding: UTF-8\n",
    "print(\"aa\")\n",
    "text_file = input('テキストファイルを入力してください')"
   ]
  },
  {
   "cell_type": "code",
   "execution_count": null,
   "metadata": {},
   "outputs": [],
   "source": [
    "f = open(text_file)\n",
    "data1 = f.read()  # ファイル終端まで全て読んだデータを返す\n",
    "f.close()\n",
    "lines1 = data1.split('\\n') # 改行で区切る(改行文字そのものは戻り値のデータには含まれない)\n",
    "for line in lines1:\n",
    "    print(line)"
   ]
  },
  {
   "cell_type": "code",
   "execution_count": null,
   "metadata": {},
   "outputs": [],
   "source": []
  },
  {
   "cell_type": "code",
   "execution_count": null,
   "metadata": {},
   "outputs": [],
   "source": []
  },
  {
   "cell_type": "code",
   "execution_count": null,
   "metadata": {},
   "outputs": [],
   "source": []
  },
  {
   "cell_type": "code",
   "execution_count": null,
   "metadata": {},
   "outputs": [],
   "source": []
  },
  {
   "cell_type": "code",
   "execution_count": 34,
   "metadata": {},
   "outputs": [
    {
     "ename": "TypeError",
     "evalue": "__init__() got an unexpected keyword argument 'iam_apikey'",
     "output_type": "error",
     "traceback": [
      "\u001b[0;31m---------------------------------------------------------------------------\u001b[0m",
      "\u001b[0;31mTypeError\u001b[0m                                 Traceback (most recent call last)",
      "\u001b[0;32m<ipython-input-34-b3db7fe39b89>\u001b[0m in \u001b[0;36m<module>\u001b[0;34m()\u001b[0m\n\u001b[1;32m     10\u001b[0m     \u001b[0mversion\u001b[0m\u001b[0;34m=\u001b[0m\u001b[0;34m'2017-10-13'\u001b[0m\u001b[0;34m,\u001b[0m\u001b[0;34m\u001b[0m\u001b[0m\n\u001b[1;32m     11\u001b[0m     \u001b[0miam_apikey\u001b[0m\u001b[0;34m=\u001b[0m\u001b[0;34m'F8mkr5wIMV_8vaQN8xoXVyVuPtmGiuU1S_Fwz_zdm0nd'\u001b[0m\u001b[0;34m,\u001b[0m\u001b[0;34m\u001b[0m\u001b[0m\n\u001b[0;32m---> 12\u001b[0;31m     \u001b[0murl\u001b[0m\u001b[0;34m=\u001b[0m\u001b[0;34m'https://gateway.watsonplatform.net/personality-insights/api'\u001b[0m\u001b[0;34m\u001b[0m\u001b[0m\n\u001b[0m\u001b[1;32m     13\u001b[0m )\n\u001b[1;32m     14\u001b[0m \u001b[0;34m\u001b[0m\u001b[0m\n",
      "\u001b[0;31mTypeError\u001b[0m: __init__() got an unexpected keyword argument 'iam_apikey'"
     ]
    }
   ],
   "source": [
    "import json, codecs\n",
    "from os import mkdir\n",
    "from os.path import join, dirname, abspath, exists\n",
    "\n",
    "from watson_developer_cloud import PersonalityInsightsV3\n",
    "from os.path import join, dirname\n",
    "import json\n",
    "\n",
    "personality_insights = PersonalityInsightsV3(\n",
    "    version='2017-10-13',\n",
    "    iam_apikey='F8mkr5wIMV_8vaQN8xoXVyVuPtmGiuU1S_Fwz_zdm0nd',\n",
    "    url='https://gateway.watsonplatform.net/personality-insights/api'\n",
    ")\n",
    "\n",
    "## 出力先パスの取得\n",
    "def getFileName():\n",
    "    json_folder = join(dirname(abspath('__file__')), 'json_folder/')\n",
    "    if not exists(json_folder):\n",
    "        mkdir(json_folder)\n",
    "\n",
    "    return join(json_folder,'line_history.json')\n",
    "\n",
    "## 文字列からJSONデータ（ファイル）を取得\n",
    "def strToJson(str):\n",
    "    lineHistoryArray = str.split('\\n')\n",
    "    tmpList = []\n",
    "    for value in lineHistoryArray:\n",
    "        tmpList.append(dict(content=value,contenttype=\"text/plain\",language='ja'))\n",
    "    lineHistoryDict = dict(contentItems = tmpList)\n",
    "\n",
    "    ## JSONファイル出力\n",
    "    # with codecs.open(getFileName(),'w','utf-8') as fw:\n",
    "    #     json.dump(lineHistoryDict, fw, ensure_ascii=False, indent=2)\n",
    "\n",
    "    ## JSON形式で返す\n",
    "    return json.dumps(lineHistoryDict, ensure_ascii=False)\n",
    "\n",
    "## 配列からJSONデータ（ファイル）を取得\n",
    "def arrayToJson(array):\n",
    "    lineHistoryDict = []\n",
    "    for oneWeekArray in array:\n",
    "        weekTmpList = []\n",
    "        for value in oneWeekArray:\n",
    "            weekTmpList.append(dict(content=value,contenttype=\"text/plain\",language='ja'))\n",
    "        allTmpList = dict(contentItems = weekTmpList)\n",
    "        lineHistoryDict.append(allTmpList)\n",
    "\n",
    "    lineHistoryDict = dict(lineHistoryDict)\n",
    "\n",
    "    ## print\n",
    "    print(json.dumps(lineHistoryDict, indent=2))\n",
    "\n",
    "    ## JSON形式で返す\n",
    "    return json.dumps(lineHistoryDict, ensure_ascii=False)\n",
    "\n",
    "\n",
    "## 文字列(str)から性格情報(JSON)を取得\n",
    "def getPersonalityInsights(str):\n",
    "\n",
    "    ## JSONファイルを認識\n",
    "    #with open(join(dirname(__file__), './json_folder/line_history.json')) as profile_json:\n",
    "    #     profile = personality_insights.profile(\n",
    "    #         profile_json.read(),\n",
    "    #         content_type='application/json',\n",
    "    #         consumption_preferences=True,\n",
    "    #         raw_scores=True\n",
    "    #     ).get_result()\n",
    "\n",
    "    ## JSONデータを認識\n",
    "    profile = personality_insights.profile(\n",
    "        strToJson(str),\n",
    "        content_type='application/json',\n",
    "        consumption_preferences=True,\n",
    "        raw_scores=True\n",
    "    ).get_result()\n",
    "\n",
    "    print(json.dumps(profile, indent=2))\n",
    "\n",
    "    return json.dumps(profile, indent=2)\n",
    "\n",
    "## main関数\n",
    "if __name__ == '__main__':\n",
    "    getPersonalityInsights()"
   ]
  },
  {
   "cell_type": "code",
   "execution_count": 35,
   "metadata": {},
   "outputs": [
    {
     "ename": "NameError",
     "evalue": "name 'lines_5' is not defined",
     "output_type": "error",
     "traceback": [
      "\u001b[0;31m---------------------------------------------------------------------------\u001b[0m",
      "\u001b[0;31mNameError\u001b[0m                                 Traceback (most recent call last)",
      "\u001b[0;32m<ipython-input-35-7963457b4089>\u001b[0m in \u001b[0;36m<module>\u001b[0;34m()\u001b[0m\n\u001b[0;32m----> 1\u001b[0;31m \u001b[0mmojiretu\u001b[0m \u001b[0;34m=\u001b[0m \u001b[0;34m','\u001b[0m\u001b[0;34m.\u001b[0m\u001b[0mjoin\u001b[0m\u001b[0;34m(\u001b[0m\u001b[0mlines_5\u001b[0m\u001b[0;34m[\u001b[0m\u001b[0;36m0\u001b[0m\u001b[0;34m]\u001b[0m\u001b[0;34m)\u001b[0m\u001b[0;34m\u001b[0m\u001b[0m\n\u001b[0m",
      "\u001b[0;31mNameError\u001b[0m: name 'lines_5' is not defined"
     ]
    }
   ],
   "source": []
  },
  {
   "cell_type": "code",
   "execution_count": null,
   "metadata": {},
   "outputs": [],
   "source": []
  }
 ],
 "metadata": {
  "kernelspec": {
   "display_name": "Python 3",
   "language": "python",
   "name": "python3"
  },
  "language_info": {
   "codemirror_mode": {
    "name": "ipython",
    "version": 3
   },
   "file_extension": ".py",
   "mimetype": "text/x-python",
   "name": "python",
   "nbconvert_exporter": "python",
   "pygments_lexer": "ipython3",
   "version": "3.6.4"
  }
 },
 "nbformat": 4,
 "nbformat_minor": 2
}
