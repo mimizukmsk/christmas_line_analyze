{
 "cells": [
  {
   "cell_type": "code",
   "execution_count": 6,
   "metadata": {
    "scrolled": true
   },
   "outputs": [],
   "source": [
    "#!/usr/bin/python\n",
    "# coding: UTF-8\n",
    "import re\n",
    "import json, codecs\n",
    "from os import mkdir\n",
    "from os.path import join, dirname, abspath, exists\n",
    "\n",
    "from watson_developer_cloud import PersonalityInsightsV3\n",
    "from os.path import join, dirname\n",
    "import json\n",
    "\n",
    "\n",
    "personality_insights = PersonalityInsightsV3(\n",
    "    version='2017-10-13',\n",
    "    iam_apikey='F8mkr5wIMV_8vaQN8xoXVyVuPtmGiuU1S_Fwz_zdm0nd',\n",
    "    url='https://gateway.watsonplatform.net/personality-insights/api'\n",
    ")\n",
    "\n",
    "\n",
    "def array_to_str(array):\n",
    "    s = '\\n'.join(array)\n",
    "    return s\n",
    "\n",
    "\n",
    "## 出力先パスの取得\n",
    "def getFileName():\n",
    "    json_folder = join(dirname(abspath('__file__')), 'json_folder/')\n",
    "    if not exists(json_folder):\n",
    "        mkdir(json_folder)\n",
    "\n",
    "    return join(json_folder,'line_history.json')\n",
    "\n",
    "## 文字列からJSONデータ（ファイル）を取得\n",
    "def strToJson(str):\n",
    "    lineHistoryArray = str.split('\\n')\n",
    "    tmpList = []\n",
    "    for value in lineHistoryArray:\n",
    "        tmpList.append(dict(content=value,contenttype=\"text/plain\",language='ja'))\n",
    "    lineHistoryDict = dict(contentItems = tmpList)\n",
    "\n",
    "    return json.dumps(lineHistoryDict, ensure_ascii=False)\n",
    "\n",
    "\n",
    "## 文字列(str)から性格情報(JSON)を取得\n",
    "def getPersonalityInsights(str):\n",
    "    ## JSONデータを認識\n",
    "    profile = personality_insights.profile(\n",
    "        strToJson(str),\n",
    "        content_type='application/json',\n",
    "        consumption_preferences=True,\n",
    "        raw_scores=True\n",
    "    ).get_result()\n",
    "\n",
    "    result = json.dumps(profile, indent=2)\n",
    "    result = json.loads(result)\n",
    "    return result[\"personality\"][0][\"children\"][2][\"raw_score\"]"
   ]
  },
  {
   "cell_type": "code",
   "execution_count": 10,
   "metadata": {
    "scrolled": false
   },
   "outputs": [],
   "source": [
    "def main():\n",
    "    # テキストファイルの読み込み\n",
    "    text_file = input('テキストファイルを入力してください')\n",
    "    f = open(text_file)\n",
    "    data1 = f.read()  # ファイル終端まで全て読んだデータを返す\n",
    "    f.close()\n",
    "    lines1 = data1.split('\\n') # 改行で区切る(改行文字そのものは戻り値のデータには含まれない)\n",
    "\n",
    "    # 相手の名前を取得\n",
    "    a = 'E] '\n",
    "    b = 'とのトーク'\n",
    "    r = re.search(r'%s(.*?)?%s'%(a,b), lines1[0])\n",
    "    target_name = r.group(1)\n",
    "\n",
    "    # 相手のコメントor日付のみ取得\n",
    "    lines_2=[]\n",
    "    a = '\t'\n",
    "    b = '\t'\n",
    "\n",
    "    for line in lines1:\n",
    "        index = line.find(\"2018/\") # 日付である\n",
    "        if index != -1:\n",
    "            lines_2.append(line)\n",
    "        else:\n",
    "            miyake_message = line.find(\"\\t\" + target_name) # それ以外のうち、時刻の後に\"target_name\"がきている\n",
    "            if miyake_message != -1:\n",
    "                lines_2.append(line)\n",
    "            else:\n",
    "                continue\n",
    "\n",
    "    # 必要ない部分を消す\n",
    "    lines_3=[]\n",
    "    rm_url = re.compile(r'https?://t.co/([A-Za-z0-9_]+)')\n",
    "\n",
    "    for line in lines_2:\n",
    "        line=re.sub(r'[0-3][0-9]:[0-6][0-9]', \"\", line)#時刻を削除\n",
    "        line=re.sub(r'[0-9]:[0-6][0-9]', \"\", line)#時刻を削除\n",
    "        line=re.sub(r'(月)|(火)|(水)|(木)|(金)|(土)|(日)', \"\", line)#曜日を削除1\n",
    "        line=re.sub(r'\\(\\)', \"\", line)#曜日を削除1\n",
    "        line=re.sub(target_name, \"\", line)#target_nameを削除\n",
    "        line=re.sub(r'\\[スタンプ\\]|\\[写真\\]|\\[ファイル\\]', \"\", line)#[スタンプ][写真][ファイル]を削除\n",
    "        line=re.sub(r'https?://[\\w/:%#\\$&\\?\\(\\)~\\.=\\+\\-…]+', \"\", line) #URLを削除\n",
    "        line=re.sub(r\"\\t\", \"\", line)\n",
    "\n",
    "        lines_3.append(line)\n",
    "\n",
    "    lines_3 = lines_3[1:] #保存日時を削除\n",
    "\n",
    "    # 最初の日付から１週間ごとに分割（何も会話がない週は空欄にする）\n",
    "    import datetime\n",
    "\n",
    "    lines_4 = []\n",
    "    one_week_messages = []\n",
    "    a = datetime.date(2015, 4, 1)\n",
    "\n",
    "    for line in lines_3:\n",
    "        index = line.find(\"2018/\") # 日付である\n",
    "        if index != -1:\n",
    "            dt = datetime.datetime.strptime(line, '%Y/%m/%d')\n",
    "            dt = datetime.date(dt.year, dt.month, dt.day)\n",
    "            if (dt-a).days >= 7: # 前から7日以上経過していたら現在のリストをlines_4に格納して初期化\n",
    "                a = dt\n",
    "                lines_4.append(one_week_messages)\n",
    "                one_week_messages = []\n",
    "        else:\n",
    "            one_week_messages.append(line)\n",
    "\n",
    "\n",
    "\n",
    "    # カサ増しをする\n",
    "    for messages in lines_4:\n",
    "        number_of_words = 0\n",
    "        for message in messages:\n",
    "            number_of_words += len(message)\n",
    "        if number_of_words == 0:\n",
    "            additional_multi = 0\n",
    "        else:\n",
    "            additional_multi = 1200 // number_of_words +1\n",
    "\n",
    "        copied_messages_array = []\n",
    "        copied_messages = messages\n",
    "        for i in range(additional_multi):\n",
    "            copied_messages_array.extend(copied_messages)\n",
    "        messages.extend(copied_messages_array)\n",
    "\n",
    "    # 一番最初の空リスト削除\n",
    "    lines_5 = lines_4[1:]\n",
    "\n",
    "    # それぞれをstring型に変更してgetPersonalityに入れる\n",
    "    e_personality=[]\n",
    "    number_of_weekss = []\n",
    "    number_of_weeksss = 0\n",
    "\n",
    "    for line in lines_5:\n",
    "        str_line = array_to_str(line)\n",
    "        emotional_score = getPersonalityInsights(str_line)\n",
    "        e_personality.append(emotional_score)\n",
    "\n",
    "    for i in range(len(lines_5)):\n",
    "        number_of_weeksss += 1\n",
    "        number_of_weekss.append(number_of_weeksss)\n",
    "    \n",
    "    return e_personality, number_of_weekss"
   ]
  },
  {
   "cell_type": "code",
   "execution_count": 11,
   "metadata": {},
   "outputs": [
    {
     "name": "stdout",
     "output_type": "stream",
     "text": [
      "128\n",
      "60\n",
      "117\n",
      "70\n",
      "142\n",
      "132\n",
      "102\n",
      "80\n",
      "63\n"
     ]
    }
   ],
   "source": [
    "for line in lines_5:\n",
    "    print(len(line))"
   ]
  },
  {
   "cell_type": "code",
   "execution_count": 12,
   "metadata": {},
   "outputs": [
    {
     "name": "stdout",
     "output_type": "stream",
     "text": [
      "テキストファイルを入力してくださいtalk.txt\n"
     ]
    },
    {
     "data": {
      "text/plain": [
       "([0.4972319664544008,\n",
       "  0.41995498711116663,\n",
       "  0.4497608770977077,\n",
       "  0.41714886114112054,\n",
       "  0.48592282279938215,\n",
       "  0.5745978236041795,\n",
       "  0.5124928915672278,\n",
       "  0.43160803953572163,\n",
       "  0.6226638986376509],\n",
       " [1, 2, 3, 4, 5, 6, 7, 8, 9])"
      ]
     },
     "execution_count": 12,
     "metadata": {},
     "output_type": "execute_result"
    }
   ],
   "source": [
    "main()"
   ]
  },
  {
   "cell_type": "code",
   "execution_count": 13,
   "metadata": {},
   "outputs": [
    {
     "ename": "NameError",
     "evalue": "name 'test' is not defined",
     "output_type": "error",
     "traceback": [
      "\u001b[0;31m---------------------------------------------------------------------------\u001b[0m",
      "\u001b[0;31mNameError\u001b[0m                                 Traceback (most recent call last)",
      "\u001b[0;32m<ipython-input-13-6caaab14b5ef>\u001b[0m in \u001b[0;36m<module>\u001b[0;34m()\u001b[0m\n\u001b[0;32m----> 1\u001b[0;31m \u001b[0mtest\u001b[0m\u001b[0;34m[\u001b[0m\u001b[0;36m0\u001b[0m\u001b[0;34m]\u001b[0m\u001b[0;34m\u001b[0m\u001b[0m\n\u001b[0m",
      "\u001b[0;31mNameError\u001b[0m: name 'test' is not defined"
     ]
    }
   ],
   "source": [
    "test[0]"
   ]
  },
  {
   "cell_type": "code",
   "execution_count": null,
   "metadata": {},
   "outputs": [],
   "source": []
  },
  {
   "cell_type": "code",
   "execution_count": null,
   "metadata": {},
   "outputs": [],
   "source": []
  },
  {
   "cell_type": "code",
   "execution_count": null,
   "metadata": {},
   "outputs": [],
   "source": []
  },
  {
   "cell_type": "code",
   "execution_count": null,
   "metadata": {},
   "outputs": [],
   "source": []
  },
  {
   "cell_type": "code",
   "execution_count": null,
   "metadata": {},
   "outputs": [],
   "source": []
  }
 ],
 "metadata": {
  "kernelspec": {
   "display_name": "Python 3",
   "language": "python",
   "name": "python3"
  },
  "language_info": {
   "codemirror_mode": {
    "name": "ipython",
    "version": 3
   },
   "file_extension": ".py",
   "mimetype": "text/x-python",
   "name": "python",
   "nbconvert_exporter": "python",
   "pygments_lexer": "ipython3",
   "version": "3.6.4"
  }
 },
 "nbformat": 4,
 "nbformat_minor": 2
}
