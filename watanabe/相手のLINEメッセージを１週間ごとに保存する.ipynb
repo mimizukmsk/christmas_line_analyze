{
 "cells": [
  {
   "cell_type": "markdown",
   "metadata": {},
   "source": [
    "# テキストファイルを読み取る"
   ]
  },
  {
   "cell_type": "code",
   "execution_count": null,
   "metadata": {},
   "outputs": [
    {
     "name": "stdout",
     "output_type": "stream",
     "text": [
      "aa\n"
     ]
    }
   ],
   "source": [
    "#!/usr/bin/python\n",
    "# coding: UTF-8\n",
    "print(\"aa\")\n",
    "text_file = input('テキストファイルを入力してください')"
   ]
  },
  {
   "cell_type": "code",
   "execution_count": null,
   "metadata": {},
   "outputs": [],
   "source": [
    "f = open(text_file)\n",
    "data1 = f.read()  # ファイル終端まで全て読んだデータを返す\n",
    "f.close()\n",
    "lines1 = data1.split('\\n') # 改行で区切る(改行文字そのものは戻り値のデータには含まれない)\n",
    "for line in lines1:\n",
    "    print(line)"
   ]
  },
  {
   "cell_type": "markdown",
   "metadata": {},
   "source": [
    "# 相手の名前を取得する"
   ]
  },
  {
   "cell_type": "code",
   "execution_count": null,
   "metadata": {},
   "outputs": [],
   "source": [
    "import re"
   ]
  },
  {
   "cell_type": "code",
   "execution_count": null,
   "metadata": {},
   "outputs": [],
   "source": [
    "lines1[0]"
   ]
  },
  {
   "cell_type": "code",
   "execution_count": null,
   "metadata": {},
   "outputs": [],
   "source": [
    "a = 'E] '\n",
    "b = 'とのトーク'\n",
    "r = re.search(r'%s(.*?)?%s'%(a,b), lines1[0])\n",
    "target_name = r.group(1)\n",
    "\n",
    "target_name"
   ]
  },
  {
   "cell_type": "code",
   "execution_count": null,
   "metadata": {},
   "outputs": [],
   "source": [
    "\n"
   ]
  },
  {
   "cell_type": "code",
   "execution_count": null,
   "metadata": {},
   "outputs": [],
   "source": [
    "lines1"
   ]
  },
  {
   "cell_type": "code",
   "execution_count": null,
   "metadata": {},
   "outputs": [],
   "source": []
  },
  {
   "cell_type": "markdown",
   "metadata": {},
   "source": [
    "# 相手のコメントor日付のみ取得"
   ]
  },
  {
   "cell_type": "code",
   "execution_count": null,
   "metadata": {
    "scrolled": true
   },
   "outputs": [],
   "source": [
    "lines_2=[]\n",
    "a = '\t'\n",
    "b = '\t'\n",
    "\n",
    "for line in lines1:\n",
    "    index = line.find(\"2018/\") # 日付である\n",
    "    if index != -1:\n",
    "        lines_2.append(line)\n",
    "    else:\n",
    "        miyake_message = line.find(\"\\t\" + target_name) # それ以外のうち、時刻の後に\"target_name\"がきている\n",
    "        if miyake_message != -1:\n",
    "            lines_2.append(line)\n",
    "        else:\n",
    "            continue\n",
    "\n",
    "lines_2"
   ]
  },
  {
   "cell_type": "code",
   "execution_count": null,
   "metadata": {},
   "outputs": [],
   "source": []
  },
  {
   "cell_type": "markdown",
   "metadata": {},
   "source": [
    "# 時刻と名前を消す"
   ]
  },
  {
   "cell_type": "code",
   "execution_count": null,
   "metadata": {},
   "outputs": [],
   "source": [
    "lines_3=[]\n",
    "rm_url = re.compile(r'https?://t.co/([A-Za-z0-9_]+)')\n",
    "\n",
    "for line in lines_2:\n",
    "    line=re.sub(r'[0-3][0-9]:[0-6][0-9]', \"\", line)#時刻を削除\n",
    "    line=re.sub(r'[0-9]:[0-6][0-9]', \"\", line)#時刻を削除\n",
    "    line=re.sub(r'(月)|(火)|(水)|(木)|(金)|(土)|(日)', \"\", line)#曜日を削除1\n",
    "    line=re.sub(r'\\(\\)', \"\", line)#曜日を削除1\n",
    "    line=re.sub(target_name, \"\", line)#target_nameを削除\n",
    "    line=re.sub(r'\\[スタンプ\\]|\\[写真\\]|\\[ファイル\\]', \"\", line)#[スタンプ][写真][ファイル]を削除\n",
    "    line=re.sub(r'https?://[\\w/:%#\\$&\\?\\(\\)~\\.=\\+\\-…]+', \"\", line) #URLを削除\n",
    "    line=re.sub(r\"\\t\", \"\", line)\n",
    "    \n",
    "    lines_3.append(line)\n",
    "    \n",
    "lines_3 = lines_3[1:] #保存日時を削除\n",
    "lines_3"
   ]
  },
  {
   "cell_type": "code",
   "execution_count": null,
   "metadata": {},
   "outputs": [],
   "source": [
    "for line in lines_3:\n",
    "    print(line)"
   ]
  },
  {
   "cell_type": "code",
   "execution_count": null,
   "metadata": {},
   "outputs": [],
   "source": []
  },
  {
   "cell_type": "code",
   "execution_count": null,
   "metadata": {},
   "outputs": [],
   "source": [
    "# 前回から7日以上経過していたら現在のリストをlines_4に格納して初期化"
   ]
  },
  {
   "cell_type": "code",
   "execution_count": null,
   "metadata": {},
   "outputs": [],
   "source": [
    "# import datetime\n",
    "\n",
    "# lines_4 = []\n",
    "# one_week_messages = []\n",
    "# a = datetime.date(2015, 4, 1)\n",
    "\n",
    "# for line in lines_3:\n",
    "#     index = line.find(\"2018/\") # 日付である\n",
    "#     if index != -1:\n",
    "#         dt = datetime.datetime.strptime(line, '%Y/%m/%d')\n",
    "#         dt = datetime.date(dt.year, dt.month, dt.day)\n",
    "#         if (dt-a).days >= 7: # 前から7日以上経過していたら現在のリストをlines_4に格納して初期化\n",
    "#             a = dt\n",
    "#             lines_4.append(one_week_messages)\n",
    "#             one_week_messages = []\n",
    "#     else:\n",
    "#         one_week_messages.append(line)\n",
    "        \n",
    "# lines_4[4]"
   ]
  },
  {
   "cell_type": "code",
   "execution_count": null,
   "metadata": {},
   "outputs": [],
   "source": [
    "# 最初の日付から１週間ごとに分割（何も会話がない週は空欄にする）"
   ]
  },
  {
   "cell_type": "code",
   "execution_count": null,
   "metadata": {
    "scrolled": true
   },
   "outputs": [],
   "source": [
    "import datetime\n",
    "\n",
    "# 最初の日付を特定\n",
    "initial_day = datetime.datetime.strptime(lines_3[0], '%Y/%m/%d')\n",
    "initial_day = datetime.date(initial_day.year, initial_day.month, initial_day.day)\n",
    "print(initial_day)\n",
    "\n",
    "# 最初の日から1週間ごとに新規リストを作成して、その週のメッセージを格納\n",
    "lines_4 = []\n",
    "one_week_messages = []\n",
    "\n",
    "for line in lines_3:\n",
    "    index = line.find(\"2018/\") # 日付である\n",
    "    if index != -1:\n",
    "        dt = datetime.datetime.strptime(line, '%Y/%m/%d')\n",
    "        dt = datetime.date(dt.year, dt.month, dt.day)\n",
    "        past_weeks = (dt-initial_day).days // 7 + 1\n",
    "        additional_weeks = past_weeks - len(lines_4)\n",
    "        if additional_weeks == 1:\n",
    "            lines_4.append(one_week_messages)\n",
    "            one_week_messages = []\n",
    "        elif additional_weeks == 0:\n",
    "            continue\n",
    "        else:\n",
    "            lines_4.append(one_week_messages)\n",
    "            for i in range(additional_weeks-1):\n",
    "                one_week_messages = []\n",
    "                lines_4.append(one_week_messages)\n",
    "            one_week_messages = []\n",
    "    else:\n",
    "        one_week_messages.append(line)\n",
    "\n",
    "lines_4.append(one_week_messages)\n",
    "lines_4"
   ]
  },
  {
   "cell_type": "code",
   "execution_count": null,
   "metadata": {},
   "outputs": [],
   "source": [
    "len(lines_4)"
   ]
  },
  {
   "cell_type": "code",
   "execution_count": null,
   "metadata": {},
   "outputs": [],
   "source": [
    "# カサ増しをする"
   ]
  },
  {
   "cell_type": "code",
   "execution_count": null,
   "metadata": {},
   "outputs": [],
   "source": [
    "for messages in lines_4:\n",
    "    number_of_words = 0\n",
    "    for message in messages:\n",
    "        number_of_words += len(message)\n",
    "    print(number_of_words)"
   ]
  },
  {
   "cell_type": "code",
   "execution_count": null,
   "metadata": {},
   "outputs": [],
   "source": [
    "for messages in lines_4:\n",
    "    number_of_words = 0\n",
    "    for message in messages:\n",
    "        number_of_words += len(message)\n",
    "    if number_of_words == 0:\n",
    "        addtional_multi = 0\n",
    "    else:\n",
    "        addtional_multi = 1200 // number_of_words +1\n",
    "    print(addtional_multi)"
   ]
  },
  {
   "cell_type": "code",
   "execution_count": null,
   "metadata": {},
   "outputs": [],
   "source": [
    "for messages in lines_4:\n",
    "    number_of_words = 0\n",
    "    for message in messages:\n",
    "        number_of_words += len(message)\n",
    "    if number_of_words == 0:\n",
    "        additional_multi = 0\n",
    "    else:\n",
    "        additional_multi = 1200 // number_of_words +1\n",
    "    print(additional_multi)\n",
    "    \n",
    "    copied_messages_array = []\n",
    "    copied_messages = messages\n",
    "    for i in range(additional_multi):\n",
    "        copied_messages_array.extend(copied_messages)\n",
    "    messages.extend(copied_messages_array)"
   ]
  },
  {
   "cell_type": "code",
   "execution_count": null,
   "metadata": {},
   "outputs": [],
   "source": [
    "for messages in lines_4:\n",
    "    number_of_words = 0\n",
    "    for message in messages:\n",
    "        number_of_words += len(message)\n",
    "    print(number_of_words)"
   ]
  },
  {
   "cell_type": "code",
   "execution_count": null,
   "metadata": {},
   "outputs": [],
   "source": [
    "lines_4"
   ]
  },
  {
   "cell_type": "code",
   "execution_count": null,
   "metadata": {},
   "outputs": [],
   "source": [
    "# 一番最初の空リスト削除"
   ]
  },
  {
   "cell_type": "code",
   "execution_count": null,
   "metadata": {
    "scrolled": true
   },
   "outputs": [],
   "source": [
    "lines_5 = lines_4[1:]\n",
    "lines_5"
   ]
  },
  {
   "cell_type": "code",
   "execution_count": null,
   "metadata": {},
   "outputs": [],
   "source": [
    "text_file = input('テキストファイルを入力してください')"
   ]
  },
  {
   "cell_type": "code",
   "execution_count": null,
   "metadata": {},
   "outputs": [],
   "source": []
  }
 ],
 "metadata": {
  "kernelspec": {
   "display_name": "Python 3",
   "language": "python",
   "name": "python3"
  },
  "language_info": {
   "codemirror_mode": {
    "name": "ipython",
    "version": 3
   },
   "file_extension": ".py",
   "mimetype": "text/x-python",
   "name": "python",
   "nbconvert_exporter": "python",
   "pygments_lexer": "ipython3",
   "version": "3.6.6"
  }
 },
 "nbformat": 4,
 "nbformat_minor": 2
}
